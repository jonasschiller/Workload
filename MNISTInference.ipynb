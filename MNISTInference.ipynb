{
 "cells": [
  {
   "cell_type": "markdown",
   "metadata": {},
   "source": [
    "# Neural Network Inference\n",
    "\n",
    "- Neural Networks are a large trend and widely used in many applications.\n",
    "- Inference is the process of using a trained neural network to make predictions.\n",
    "- Inference on encrypted data could enable predictions on sensitive data without revealing the data itself.\n",
    "\n",
    "Here we demonstrate inference on encrypted data with a CNN and the MNIST dataset.\n"
   ]
  },
  {
   "cell_type": "markdown",
   "metadata": {},
   "source": [
    "### Open Questions\n",
    "\n",
    "\n",
    " - <span style=\"color:red\">Which model architecture was used by which framework  </span>\n",
    " - <span style=\"color:red\">Which framework was used for training  </span>\n",
    " - <span style=\"color:red\">How is the data to be shared </span>\n",
    "\n"
   ]
  },
  {
   "cell_type": "code",
   "execution_count": 1,
   "metadata": {},
   "outputs": [
    {
     "name": "stdout",
     "output_type": "stream",
     "text": [
      "WARNING:tensorflow:From C:\\Users\\q533604\\AppData\\Roaming\\Python\\Python311\\site-packages\\keras\\src\\losses.py:2976: The name tf.losses.sparse_softmax_cross_entropy is deprecated. Please use tf.compat.v1.losses.sparse_softmax_cross_entropy instead.\n",
      "\n"
     ]
    }
   ],
   "source": [
    "import numpy as np\n",
    "import tensorflow as tf\n",
    "from tensorflow.keras.datasets import mnist\n",
    "from tensorflow.keras.models import load_model\n",
    "import matplotlib.pyplot as plt"
   ]
  },
  {
   "cell_type": "markdown",
   "metadata": {},
   "source": [
    "#### Data Loading\n",
    "\n",
    "- Data is loaded from the keras datasets module.\n",
    "- Data can be split horizontally or vertically\n",
    "- Data is loaded locally since downloading it is prohibited by the proxy"
   ]
  },
  {
   "cell_type": "code",
   "execution_count": 2,
   "metadata": {},
   "outputs": [],
   "source": [
    "path = 'mnist.npz'\n",
    "with np.load(path) as data:\n",
    "  train_examples = data['x_train']\n",
    "  train_labels = data['y_train']\n",
    "  test_examples = data['x_test']\n",
    "  test_labels = data['y_test']\n",
    "  \n",
    "#one hot encoding\n",
    "train_labels = tf.keras.utils.to_categorical(train_labels, 10)\n",
    "test_labels = tf.keras.utils.to_categorical(test_labels, 10)\n"
   ]
  },
  {
   "cell_type": "code",
   "execution_count": 5,
   "metadata": {},
   "outputs": [
    {
     "data": {
      "text/plain": [
       "(60000, 28, 28)"
      ]
     },
     "execution_count": 5,
     "metadata": {},
     "output_type": "execute_result"
    }
   ],
   "source": [
    "train_examples.shape"
   ]
  },
  {
   "cell_type": "markdown",
   "metadata": {},
   "source": [
    "#### Training (Not done in the workload)\n",
    "\n",
    "Here we can define our own model but in the workloads a pretrained model is used for inference"
   ]
  },
  {
   "cell_type": "code",
   "execution_count": 12,
   "metadata": {},
   "outputs": [],
   "source": [
    "# Define a simple sequential model\n",
    "def create_model():\n",
    "\t# Create the LeNet model\n",
    "\tmodel = tf.keras.Sequential()\n",
    "\n",
    "\t# Add the first convolutional layer\n",
    "\tmodel.add(tf.keras.layers.Conv2D(filters=6, kernel_size=(5, 5), activation='relu', input_shape=(28, 28, 1)))\n",
    "\t# Add the first max pooling layer\n",
    "\tmodel.add(tf.keras.layers.MaxPooling2D(pool_size=(2, 2)))\n",
    "\t# Add the second convolutional layer\n",
    "\tmodel.add(tf.keras.layers.Conv2D(filters=16, kernel_size=(5, 5), activation='relu'))\n",
    "\t# Add the second max pooling layer\n",
    "\tmodel.add(tf.keras.layers.MaxPooling2D(pool_size=(2, 2)))\n",
    "\t# Flatten the input\n",
    "\tmodel.add(tf.keras.layers.Flatten())\n",
    "\t# Add a fully connected layer\n",
    "\tmodel.add(tf.keras.layers.Dense(units=120, activation='relu'))\n",
    "\t# Add another fully connected layer\n",
    "\tmodel.add(tf.keras.layers.Dense(units=84, activation='relu'))\n",
    "\t# Add the output layer\n",
    "\tmodel.add(tf.keras.layers.Dense(units=10, activation='softmax'))\n",
    "\t# Compile the model\n",
    "\tmodel.compile(optimizer='adam', loss='categorical_crossentropy', metrics=['accuracy'])\n",
    "\n",
    "\treturn model\n",
    "\n",
    "# Create a basic model instance\n",
    "model = create_model()"
   ]
  },
  {
   "cell_type": "code",
   "execution_count": 13,
   "metadata": {},
   "outputs": [],
   "source": [
    "# Train the model\n",
    "log=model.fit(train_examples, train_labels, epochs=5,verbose=0)"
   ]
  },
  {
   "cell_type": "markdown",
   "metadata": {},
   "source": [
    "#### Using the trained model to perform inference\n",
    "\n",
    "Here we use the previously trained model but in the workload the weights would be loaded from a file\n",
    "Inference is performed for the test data and the accuracy is calculated"
   ]
  },
  {
   "cell_type": "code",
   "execution_count": 6,
   "metadata": {},
   "outputs": [
    {
     "name": "stdout",
     "output_type": "stream",
     "text": [
      "313/313 - 4s - loss: 0.0896 - accuracy: 0.9768 - 4s/epoch - 13ms/step\n"
     ]
    }
   ],
   "source": [
    "# Evaluate the model on test set\n",
    "test_loss, test_acc = model.evaluate(test_examples, test_labels, verbose=2)"
   ]
  }
 ],
 "metadata": {
  "kernelspec": {
   "display_name": "Python 3",
   "language": "python",
   "name": "python3"
  },
  "language_info": {
   "codemirror_mode": {
    "name": "ipython",
    "version": 3
   },
   "file_extension": ".py",
   "mimetype": "text/x-python",
   "name": "python",
   "nbconvert_exporter": "python",
   "pygments_lexer": "ipython3",
   "version": "3.11.2"
  }
 },
 "nbformat": 4,
 "nbformat_minor": 2
}
