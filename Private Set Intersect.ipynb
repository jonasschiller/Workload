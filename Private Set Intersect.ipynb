{
 "cells": [
  {
   "cell_type": "markdown",
   "metadata": {},
   "source": [
    "# Private Set Intersect\n",
    "\n",
    "- Identify the intersection of multiple datasets without revealing the contents of the datasets.\n",
    "- The datasets are not required to be sorted.\n",
    "- The datasets are not required to be of the same size.\n",
    "- They are required to have a common identifier.\n",
    "- We first implement a primitive variant of this."
   ]
  },
  {
   "cell_type": "code",
   "execution_count": 1,
   "metadata": {},
   "outputs": [],
   "source": [
    "import numpy as np"
   ]
  },
  {
   "cell_type": "markdown",
   "metadata": {},
   "source": [
    "Create two datasets with a common identifier.\n",
    "\n",
    "Each identifier should be unique within a dataset."
   ]
  },
  {
   "cell_type": "code",
   "execution_count": 13,
   "metadata": {},
   "outputs": [],
   "source": [
    "data_party1=np.unique(np.random.randint(0,100000,10000))\n",
    "data_party2=np.unique(np.random.randint(0,100000,10000))"
   ]
  },
  {
   "cell_type": "markdown",
   "metadata": {},
   "source": [
    "Using the numpy internal intersection function, we can find the intersection of the two datasets."
   ]
  },
  {
   "cell_type": "code",
   "execution_count": 53,
   "metadata": {},
   "outputs": [
    {
     "name": "stdout",
     "output_type": "stream",
     "text": [
      "CPU times: total: 15.6 ms\n",
      "Wall time: 2.1 ms\n"
     ]
    },
    {
     "data": {
      "text/plain": [
       "(938,)"
      ]
     },
     "execution_count": 53,
     "metadata": {},
     "output_type": "execute_result"
    }
   ],
   "source": [
    "%%time\n",
    "result_quick=np.intersect1d(data_party1,data_party2)\n",
    "result_quick.shape"
   ]
  },
  {
   "cell_type": "markdown",
   "metadata": {},
   "source": [
    "Naive Implementation would be to simply compare each element of one dataset with the other and add if they match"
   ]
  },
  {
   "cell_type": "code",
   "execution_count": 21,
   "metadata": {},
   "outputs": [
    {
     "name": "stdout",
     "output_type": "stream",
     "text": [
      "CPU times: total: 250 ms\n",
      "Wall time: 255 ms\n"
     ]
    }
   ],
   "source": [
    "%%time\n",
    "result=[]\n",
    "for i in range(data_party1.shape[0]):\n",
    "    if data_party1[i] in data_party2:\n",
    "        result.append(data_party1[i])"
   ]
  },
  {
   "cell_type": "markdown",
   "metadata": {},
   "source": [
    "Ultra naive implementation would be to compare each element of one dataset with each element of the other and add if they match"
   ]
  },
  {
   "cell_type": "code",
   "execution_count": 22,
   "metadata": {},
   "outputs": [
    {
     "name": "stdout",
     "output_type": "stream",
     "text": [
      "CPU times: total: 49.1 s\n",
      "Wall time: 53.1 s\n"
     ]
    }
   ],
   "source": [
    "%%time\n",
    "result=[]\n",
    "for i in range(data_party1.shape[0]):\n",
    "    for s in range(data_party2.shape[0]):\n",
    "        if data_party1[i]==data_party2[s]:\n",
    "            result.append(data_party1[i])"
   ]
  },
  {
   "cell_type": "code",
   "execution_count": 39,
   "metadata": {},
   "outputs": [
    {
     "name": "stdout",
     "output_type": "stream",
     "text": [
      "\n",
      "\n",
      "Sorted array is\n",
      "1 5 2 6 3 7 4 8 "
     ]
    }
   ],
   "source": [
    "# Python program for Bitonic Sort. Note that this program\n",
    "# works only when size of input is a power of 2.\n",
    "\n",
    "# The parameter dir indicates the sorting direction, ASCENDING\n",
    "# or DESCENDING; if (a[i] > a[j]) agrees with the direction,\n",
    "# then a[i] and a[j] are interchanged.*/\n",
    "\n",
    "\n",
    "def compAndSwap(a, i, j, dire):\n",
    "\tif (dire == 1 and a[i] > a[j]) or (dire == 0 and a[i] > a[j]):\n",
    "\t\ta[i], a[j] = a[j], a[i]\n",
    "\n",
    "# It recursively sorts a bitonic sequence in ascending order,\n",
    "# if dir = 1, and in descending order otherwise (means dir=0).\n",
    "# The sequence to be sorted starts at index position low,\n",
    "# the parameter cnt is the number of elements to be sorted.\n",
    "\n",
    "\n",
    "def bitonicMerge(a, low, cnt, dire):\n",
    "\tif cnt > 1:\n",
    "\t\tk = cnt//2\n",
    "\t\tfor i in range(low, low+k):\n",
    "\t\t\tcompAndSwap(a, i, i+k, dire)\n",
    "\t\tbitonicMerge(a, low, k, dire)\n",
    "\t\tbitonicMerge(a, low+k, k, dire)\n",
    "\n",
    "# This function first produces a bitonic sequence by recursively\n",
    "# sorting its two halves in opposite sorting orders, and then\n",
    "# calls bitonicMerge to make them in the same order\n",
    "\n",
    "\n",
    "def bitonicSort(a, low, cnt, dire):\n",
    "\tif cnt > 1:\n",
    "\t\tk = cnt//2\n",
    "\t\tbitonicSort(a, low, k, 1)\n",
    "\t\tbitonicSort(a, low+k, k, 0)\n",
    "\t\tbitonicMerge(a, low, cnt, dire)\n",
    "\n",
    "# Caller of bitonicSort for sorting the entire array of length N\n",
    "# in ASCENDING order\n",
    "\n",
    "\n",
    "def sort(a, N, up):\n",
    "\tbitonicSort(a, 0, N, up)\n",
    "\n",
    "\n",
    "# Driver code to test above\n",
    "a = [3, 7, 4, 8, 6, 2, 1, 5]\n",
    "n = len(a)\n",
    "up = 1\n",
    "\n",
    "sort(a, n, up)\n",
    "print(\"\\n\\nSorted array is\")\n",
    "for i in range(n):\n",
    "\tprint(\"%d\" % a[i], end=\" \")\n",
    "\n",
    "\n"
   ]
  },
  {
   "cell_type": "code",
   "execution_count": 50,
   "metadata": {},
   "outputs": [
    {
     "data": {
      "text/plain": [
       "array([    0.,     0.,     0., ..., 99995., 99996., 99997.])"
      ]
     },
     "execution_count": 50,
     "metadata": {},
     "output_type": "execute_result"
    }
   ],
   "source": [
    "arr1 = np.sort(data_party1)\n",
    "arr2 = np.sort(data_party2)\n",
    "bitonic_seq = np.append(arr1, arr2[::-1])\n",
    "bitonic_seq = np.append(bitonic_seq,np.zeros(2**15-len(bitonic_seq)))\n",
    "bitonicMerge(bitonic_seq, 0, 2**15, 1)\n",
    "bitonic_seq"
   ]
  },
  {
   "cell_type": "code",
   "execution_count": 61,
   "metadata": {},
   "outputs": [
    {
     "name": "stdout",
     "output_type": "stream",
     "text": [
      "CPU times: total: 172 ms\n",
      "Wall time: 160 ms\n"
     ]
    },
    {
     "data": {
      "text/plain": [
       "938"
      ]
     },
     "execution_count": 61,
     "metadata": {},
     "output_type": "execute_result"
    }
   ],
   "source": [
    "%%time\n",
    "def find_intersection(arr1, arr2):\n",
    "    # Create bitonic sequence by concatenating datasets in reverse order\n",
    "    arr1 = np.sort(data_party1)\n",
    "    arr2 = np.sort(data_party2)\n",
    "    bitonic_seq = np.append(arr1, arr2[::-1])\n",
    "    bitonic_seq = np.append(bitonic_seq,np.zeros(2**15-len(bitonic_seq)))\n",
    "    \n",
    "    # Perform bitonic merge sort on the bitonic sequence\n",
    "    bitonicMerge(bitonic_seq, 0, len(bitonic_seq), 1)\n",
    "     # Remove zeros from the bitonic sequence\n",
    "    non_zero_indices = np.nonzero(bitonic_seq)\n",
    "    bitonic_seq = bitonic_seq[non_zero_indices]\n",
    "    \n",
    "    # Find common elements during the merge process\n",
    "    intersection = []\n",
    "    prev = None\n",
    "    for num in bitonic_seq:\n",
    "        if num == prev:\n",
    "            intersection.append(num)\n",
    "        prev = num\n",
    "\n",
    "    return intersection\n",
    "\n",
    "len(find_intersection(data_party1, data_party2))\n"
   ]
  },
  {
   "cell_type": "code",
   "execution_count": null,
   "metadata": {},
   "outputs": [],
   "source": []
  }
 ],
 "metadata": {
  "kernelspec": {
   "display_name": "Python 3",
   "language": "python",
   "name": "python3"
  },
  "language_info": {
   "codemirror_mode": {
    "name": "ipython",
    "version": 3
   },
   "file_extension": ".py",
   "mimetype": "text/x-python",
   "name": "python",
   "nbconvert_exporter": "python",
   "pygments_lexer": "ipython3",
   "version": "3.11.2"
  }
 },
 "nbformat": 4,
 "nbformat_minor": 2
}
