{
 "cells": [
  {
   "cell_type": "markdown",
   "metadata": {},
   "source": [
    "# Threshold Security\n",
    "\n",
    "- Encryption and signature algorithms based on shared keys enable a much higher security guarantee then traditional approaches\n",
    "- Threshold Signature Algorithms are widely used in the blockchain/crypto space\n",
    "- Threshold Encryption Algorithms are not widely used yet, but are gaining traction"
   ]
  },
  {
   "cell_type": "markdown",
   "metadata": {},
   "source": [
    "Using a predefined library this example is pretty simple \n",
    "\n",
    "Implementing it will however not be as simple"
   ]
  },
  {
   "cell_type": "code",
   "execution_count": 2,
   "metadata": {},
   "outputs": [
    {
     "name": "stdout",
     "output_type": "stream",
     "text": [
      "True\n"
     ]
    }
   ],
   "source": [
    "from ellipticcurve.ecdsa import Ecdsa\n",
    "from ellipticcurve.privateKey import PrivateKey\n",
    "\n",
    "\n",
    "# Generate new Keys\n",
    "privateKey = PrivateKey()\n",
    "publicKey = privateKey.publicKey()\n",
    "\n",
    "message = \"My test message\"\n",
    "\n",
    "# Generate Signature\n",
    "signature = Ecdsa.sign(message, privateKey)\n",
    "\n",
    "# To verify if the signature is valid\n",
    "print(Ecdsa.verify(message, signature, publicKey))"
   ]
  },
  {
   "cell_type": "markdown",
   "metadata": {},
   "source": [
    "Required for the implementation:\n",
    "- Elliptic curve definition and math\n",
    "- Key generation\n",
    "- Signature generation"
   ]
  },
  {
   "cell_type": "markdown",
   "metadata": {},
   "source": []
  }
 ],
 "metadata": {
  "kernelspec": {
   "display_name": "Python 3",
   "language": "python",
   "name": "python3"
  },
  "language_info": {
   "codemirror_mode": {
    "name": "ipython",
    "version": 3
   },
   "file_extension": ".py",
   "mimetype": "text/x-python",
   "name": "python",
   "nbconvert_exporter": "python",
   "pygments_lexer": "ipython3",
   "version": "3.11.2"
  }
 },
 "nbformat": 4,
 "nbformat_minor": 2
}
