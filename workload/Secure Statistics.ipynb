{
 "cells": [
  {
   "cell_type": "markdown",
   "metadata": {},
   "source": [
    "# Secure Statistics\n",
    "This Notebook provides a description for the Secure Statistics workload as part of a benchmark for MPC Frameworks.\n",
    "\n",
    "The workload is based on a literature review idenfying several use cases were secure statistics were used.\n",
    "\n",
    "The stats caculated here are Sum, Mean, Min, Max and "
   ]
  },
  {
   "cell_type": "code",
   "execution_count": 11,
   "metadata": {},
   "outputs": [],
   "source": [
    "import numpy as np"
   ]
  },
  {
   "cell_type": "markdown",
   "metadata": {},
   "source": [
    "## Data Generation\n",
    "- N Input Parties Load data\n",
    "\n",
    "- Data is horizontally split so that it simply be appended at the end of the file\n",
    "\n",
    "- Data is generated randomly between 0 and 1000 for each column with 3 columns per party and 1000 rows per party\n",
    "\n",
    "- Data could also represent 3000 participants that only provide one input per column"
   ]
  },
  {
   "cell_type": "code",
   "execution_count": 12,
   "metadata": {},
   "outputs": [],
   "source": [
    "party1=np.random.randint(0,10000,(1000,3))\n",
    "party2=np.random.randint(0,10000,(1000,3))\n",
    "party3=np.random.randint(0,10000,(1000,3))\n",
    "\n",
    "#append the parties together\n",
    "all_parties=np.concatenate((party1,party2,party3),axis=0)"
   ]
  },
  {
   "cell_type": "markdown",
   "metadata": {},
   "source": [
    "### Secure Sum\n",
    "- We calculate the sum of each column \n",
    "- Could be used for voting or aggregation of net worth or CO2 emissions\n",
    "- Only the sum should be public\n",
    "- Can be used to calculate overall costs for different companies and measure savings in total"
   ]
  },
  {
   "cell_type": "code",
   "execution_count": 13,
   "metadata": {},
   "outputs": [
    {
     "name": "stdout",
     "output_type": "stream",
     "text": [
      "[14847377 15124730 15014620]\n"
     ]
    }
   ],
   "source": [
    "securesum=np.sum(all_parties,axis=0)\n",
    "print(securesum)"
   ]
  },
  {
   "cell_type": "markdown",
   "metadata": {},
   "source": [
    "### Secure Mean\n",
    "\n",
    "- We calculate the mean of each column\n",
    "- Calculate average live expectancy in medical use case or average income in wage gap scenario\n",
    "- Only the mean should be public"
   ]
  },
  {
   "cell_type": "code",
   "execution_count": 14,
   "metadata": {},
   "outputs": [
    {
     "name": "stdout",
     "output_type": "stream",
     "text": [
      "[4949. 5042. 5005.]\n"
     ]
    }
   ],
   "source": [
    "securemean=np.round(np.mean(all_parties,axis=0),0)\n",
    "print(securemean)"
   ]
  },
  {
   "cell_type": "markdown",
   "metadata": {},
   "source": [
    "### Secure Max\n",
    "- We calculate the max of each column\n",
    "- Identify a bid for an auction \n",
    "- Identify outliers in a dataset for preprocessing\n",
    "- Only the max should be public and should not be traceable to a specific party (altough in a 3 party setting it has to be one of the other two)"
   ]
  },
  {
   "cell_type": "code",
   "execution_count": 15,
   "metadata": {},
   "outputs": [
    {
     "name": "stdout",
     "output_type": "stream",
     "text": [
      "[9995 9999 9997]\n"
     ]
    }
   ],
   "source": [
    "securemax = np.max(all_parties, axis=0)\n",
    "print(securemax)"
   ]
  },
  {
   "cell_type": "markdown",
   "metadata": {},
   "source": [
    "### Secure Min\n",
    "- We calculate the min of each column\n",
    "- Identify lowest bid for an auction\n",
    "- Identify outliers in a dataset for preprocessing\n",
    "- Only the min should be public and should not be traceable to a specific party (altough in a 3 party setting it has to be one of the other two)"
   ]
  },
  {
   "cell_type": "code",
   "execution_count": 16,
   "metadata": {},
   "outputs": [
    {
     "name": "stdout",
     "output_type": "stream",
     "text": [
      "[ 2 10  0]\n"
     ]
    }
   ],
   "source": [
    "securemin = np.min(all_parties, axis=0)\n",
    "print(securemin)"
   ]
  }
 ],
 "metadata": {
  "kernelspec": {
   "display_name": "Python 3",
   "language": "python",
   "name": "python3"
  },
  "language_info": {
   "codemirror_mode": {
    "name": "ipython",
    "version": 3
   },
   "file_extension": ".py",
   "mimetype": "text/x-python",
   "name": "python",
   "nbconvert_exporter": "python",
   "pygments_lexer": "ipython3",
   "version": "3.11.2"
  }
 },
 "nbformat": 4,
 "nbformat_minor": 2
}
