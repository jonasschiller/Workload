{
 "cells": [
  {
   "cell_type": "markdown",
   "metadata": {},
   "source": [
    "# Secure Auction \n",
    "\n",
    "- A auction was the first MPC application with the Sugar Beets Auction in 2008\n",
    "- Auctions are different based on the defined rules and participant settings\n",
    "- Here we will implement a Vickrey auction\n",
    "- Use Cases: Sugar Beets Auction, Electricity Auction, Spectrum Auction, Airline Slot Trading, CO2 Allowance Trading"
   ]
  },
  {
   "cell_type": "markdown",
   "metadata": {},
   "source": [
    "Implementation is based on this example https://www.noveltech.dev/simulation-market-python"
   ]
  },
  {
   "cell_type": "code",
   "execution_count": 10,
   "metadata": {},
   "outputs": [],
   "source": [
    "from typing import List  \n",
    "from dataclasses import dataclass  \n",
    "\n",
    "@dataclass\n",
    "class Order(object):   \n",
    "    CreatorID: int   \n",
    "    Side: bool  \n",
    "    Quantity: int   \n",
    "    Price: int  \n",
    "\n",
    "\n",
    "@dataclass  \n",
    "class Match(object):   \n",
    "    Bid: Order   \n",
    "    Offer: Order\n",
    "    \n",
    "class Market(object):\n",
    "    def __init__(self):\n",
    "        self.Bids: List[Order] = []\n",
    "        self.Offers: List[Order] = []\n",
    "        self.Matches: List[Match] = []\n",
    "\n",
    "    def AddOrder(self, order: Order):\n",
    "        if order.Side:\n",
    "            self.Offers.append(order)\n",
    "        else:\n",
    "            self.Bids.append(order)  \n",
    "    \n",
    "    def ComputeClearingPrice(self) -> int:   \n",
    "        if len(self.Matches) == 0:   \n",
    "            return 0   \n",
    "        \n",
    "        clearingPrice = 0   \n",
    "        cumulativeQuantity = 0\n",
    "        for match in self.Matches:\n",
    "            cumulativeQuantity += match.Bid.Quantity\n",
    "            clearingPrice += match.Bid.Quantity * (match.Bid.Price + match.Offer.Price) / 2\n",
    "        \n",
    "        return int(clearingPrice / cumulativeQuantity)\n",
    "    \n",
    "    def MatchOrders(self):   \n",
    "        self.Bids = sorted(self.Bids, key=lambda x: x.Price)[::-1]\n",
    "        self.Offers = sorted(self.Offers, key=lambda x: x.Price)\n",
    "\n",
    "        while (len(self.Bids) > 0 and len(self.Offers) > 0):\n",
    "            if self.Bids[0].Price < self.Offers[0].Price:\n",
    "                break\n",
    "            else:  # self.Bids[0].Price >= self.Offers[0].Price:\n",
    "                currBid = self.Bids.pop()\n",
    "                currOffer = self.Offers.pop()\n",
    "                if currBid.Quantity != currOffer.Quantity:\n",
    "                    if currBid.Quantity > currOffer.Quantity:\n",
    "                        newBid = Order(currBid.CreatorID, currBid.Side, currBid.Quantity - currOffer.Quantity, currBid.Price)\n",
    "                        self.Bids.insert(0, newBid)\n",
    "                        currBid.Quantity = currOffer.Quantity\n",
    "                    else:\n",
    "                        newOffer = Order(currOffer.CreatorID, currOffer.Side, currOffer.Quantity - currBid.Quantity, currOffer.Price)\n",
    "                        self.Offers.insert(0, newOffer)\n",
    "                        currOffer.Quantity = currBid.Quantity    \n",
    "                self.Matches.append(Match(currBid, currOffer))"
   ]
  },
  {
   "cell_type": "code",
   "execution_count": 13,
   "metadata": {},
   "outputs": [
    {
     "data": {
      "text/plain": [
       "9"
      ]
     },
     "execution_count": 13,
     "metadata": {},
     "output_type": "execute_result"
    }
   ],
   "source": [
    "# Create market instance and test orders   \n",
    "market = Market()     \n",
    "buyOrder = Order(CreatorID=0, Side=False, Quantity=100, Price=10)   \n",
    "sellOrder = Order(CreatorID=1, Side=True, Quantity=100, Price=9)   \n",
    "\n",
    "# Send orders to market   \n",
    "market.AddOrder(buyOrder)   \n",
    "market.AddOrder(sellOrder)  \n",
    "\n",
    "# Match orders  \n",
    "market.MatchOrders()\n",
    "\n",
    "# Get the clearing price  \n",
    "market.ComputeClearingPrice()\n",
    "# returns 9  "
   ]
  },
  {
   "cell_type": "code",
   "execution_count": null,
   "metadata": {},
   "outputs": [],
   "source": []
  }
 ],
 "metadata": {
  "kernelspec": {
   "display_name": "Python 3",
   "language": "python",
   "name": "python3"
  },
  "language_info": {
   "codemirror_mode": {
    "name": "ipython",
    "version": 3
   },
   "file_extension": ".py",
   "mimetype": "text/x-python",
   "name": "python",
   "nbconvert_exporter": "python",
   "pygments_lexer": "ipython3",
   "version": "3.11.2"
  }
 },
 "nbformat": 4,
 "nbformat_minor": 2
}
