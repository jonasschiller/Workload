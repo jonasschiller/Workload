{
 "cells": [
  {
   "cell_type": "code",
   "execution_count": 4,
   "metadata": {},
   "outputs": [],
   "source": [
    "import matplotlib.pyplot as plt\n",
    "import matplotlib as mpl"
   ]
  },
  {
   "cell_type": "code",
   "execution_count": 8,
   "metadata": {},
   "outputs": [],
   "source": [
    "#plt.style.use('fivethirtyeight')\n",
    "plt.rc(\"text\", usetex=True)\n",
    "plt.rc(\"text.latex\", preamble=r'\\usepackage{amsmath}')\n",
    "\n",
    "pr ={\"axes.labelsize\": 9,               # LaTeX default is 10pt font.\n",
    "    \"font.size\": 9,\n",
    "    \"legend.fontsize\": 6,               # Make the legend/label fonts\n",
    "    \"xtick.labelsize\": 9,               # a little smaller\n",
    "    \"ytick.labelsize\": 9,\n",
    "    \"errorbar.capsize\": 2.5,\n",
    "    \"font.family\": \"STIXGeneral\",\n",
    "    \"font.serif\": [],                   # blank entries should cause plots\n",
    "    \"font.sans-serif\": [],    \n",
    "    }\n",
    "for k, v in pr.items():\n",
    "    mpl.rcParams[k] = v\n",
    "#set_matplotlib_formats('retina')\n",
    "#mpl.rcParams[\"font.family\"] = \"computer modern serif\"\n",
    "# mpl.rcParams[\"font.serif\"] = [\"STIX\"]\n",
    "mpl.rcParams[\"mathtext.fontset\"] = \"stix\""
   ]
  },
  {
   "cell_type": "code",
   "execution_count": 12,
   "metadata": {},
   "outputs": [
    {
     "data": {
      "image/png": "[encoded data removed]",
      "text/plain": [
       "<Figure size 300x200 with 1 Axes>"
      ]
     },
     "metadata": {},
     "output_type": "display_data"
    }
   ],
   "source": [
    "import numpy as np\n",
    "import matplotlib.pyplot as plt\n",
    "\n",
    "# Define the sigmoid function\n",
    "def sigmoid(x):\n",
    "    return 1 / (1 + np.exp(-x))\n",
    "\n",
    "# Define the piecewise approximation function\n",
    "def piecewise_approx(x):\n",
    "    y = np.zeros_like(x)\n",
    "    y[x > 0.5] = 1\n",
    "    y[(x > -0.5) & (x <= 0.5)] = x[(x > -0.5) & (x <= 0.5)] + 0.5\n",
    "    return y\n",
    "\n",
    "# Create an array of x values\n",
    "x = np.linspace(-2.5, 2.5, 1000)\n",
    "\n",
    "# Generate y values for both functions\n",
    "y_sigmoid = sigmoid(x)\n",
    "y_approx = piecewise_approx(x)\n",
    "\n",
    "# Plot both functions\n",
    "plt.figure(figsize=(3, 2))\n",
    "plt.plot(x, y_sigmoid, label='Sigmoid Function')\n",
    "plt.plot(x, y_approx, label='Piecewise Linear \\n Approximation', linestyle='--')\n",
    "\n",
    "plt.grid(True, which='both', axis='x', linestyle='--', linewidth=1)\n",
    "# Add axis\n",
    "plt.axhline(0, color='black', linewidth=0.5)\n",
    "plt.axvline(0, color='black', linewidth=0.5)\n",
    "# Add x and y labels\n",
    "plt.xticks([-0.5, 0.5], ['-0.5', '0.5'])\n",
    "plt.yticks([0, 1], ['0', '1'])\n",
    "\n",
    "# Add labels and legend\n",
    "plt.xlabel('x')\n",
    "plt.ylabel('y')\n",
    "plt.legend(loc='upper left', fontsize=7)\n",
    "plt.savefig('sigmoid.png')\n",
    "# Show the plot\n",
    "plt.show()\n"
   ]
  },
  {
   "cell_type": "code",
   "execution_count": null,
   "metadata": {},
   "outputs": [],
   "source": [
    "ones = [1] * 1000000\n",
    "ones_str = ' '.join(map(str, ones))\n",
    "\n",
    "with open('output.txt', 'w') as file:\n",
    "    file.write(ones_str)\n"
   ]
  },
  {
   "cell_type": "code",
   "execution_count": null,
   "metadata": {},
   "outputs": [],
   "source": []
  }
 ],
 "metadata": {
  "kernelspec": {
   "display_name": "Python 3",
   "language": "python",
   "name": "python3"
  },
  "language_info": {
   "codemirror_mode": {
    "name": "ipython",
    "version": 3
   },
   "file_extension": ".py",
   "mimetype": "text/x-python",
   "name": "python",
   "nbconvert_exporter": "python",
   "pygments_lexer": "ipython3",
   "version": "3.11.2"
  }
 },
 "nbformat": 4,
 "nbformat_minor": 2
}
